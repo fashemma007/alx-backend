{
 "cells": [
  {
   "cell_type": "code",
   "execution_count": 1,
   "metadata": {},
   "outputs": [],
   "source": [
    "class BaseCaching():\n",
    "    \"\"\" BaseCaching defines:\n",
    "      - constants of your caching system\n",
    "      - where your data are stored (in a dictionary)\n",
    "    \"\"\"\n",
    "    MAX_ITEMS = 4\n",
    "\n",
    "    def __init__(self):\n",
    "        \"\"\" Initiliaze\n",
    "        \"\"\"\n",
    "        self.cache_data = {}\n",
    "\n",
    "    def print_cache(self):\n",
    "        \"\"\" Print the cache\n",
    "        \"\"\"\n",
    "        print(\"Current cache:\")\n",
    "        for key in sorted(self.cache_data.keys()):\n",
    "            print(\"{}: {}\".format(key, self.cache_data.get(key)))\n",
    "\n",
    "    def put(self, key, item):\n",
    "        \"\"\" Add an item in the cache\n",
    "        \"\"\"\n",
    "        raise NotImplementedError(\n",
    "            \"put must be implemented in your cache class\")\n",
    "\n",
    "    def get(self, key):\n",
    "        \"\"\" Get an item by key\n",
    "        \"\"\"\n",
    "        raise NotImplementedError(\n",
    "            \"get must be implemented in your cache class\")\n"
   ]
  },
  {
   "cell_type": "code",
   "execution_count": 74,
   "metadata": {},
   "outputs": [],
   "source": [
    "class FIFOCache(BaseCaching):\n",
    "    \"\"\"Basic Cache class\"\"\"\n",
    "\n",
    "    def __init__(self):\n",
    "        self.orders = []\n",
    "        super().__init__()\n",
    "\n",
    "    def put(self, key=None, item=None):\n",
    "        \"\"\" Add an item in the cache\n",
    "        \"\"\"\n",
    "        if key is not None and item is not None:\n",
    "            data = {key: item}\n",
    "            if self.MAX_ITEMS > len(self.orders):\n",
    "                self.orders.append(key)\n",
    "                self.cache_data.update(data)\n",
    "                print(self.orders)\n",
    "            elif key in self.cache_data:\n",
    "                self.cache_data.update(data)\n",
    "            else:\n",
    "                pop_it = self.orders.pop(0)\n",
    "                print(f\"To be deleted {pop_it}\")\n",
    "                del self.cache_data[pop_it]\n",
    "                self.orders.append(key)\n",
    "                self.cache_data.update(data)\n",
    "                print(f\"DISCARD: {pop_it}\\n\")\n",
    "        else:\n",
    "            return\n",
    "\n",
    "    def get(self, key=None):\n",
    "        \"\"\" Get an item by key\n",
    "        \"\"\"\n",
    "        return self.cache_data.get(key)"
   ]
  },
  {
   "cell_type": "code",
   "execution_count": 75,
   "metadata": {},
   "outputs": [],
   "source": [
    "my_cache = FIFOCache()"
   ]
  },
  {
   "cell_type": "code",
   "execution_count": 76,
   "metadata": {},
   "outputs": [
    {
     "name": "stdout",
     "output_type": "stream",
     "text": [
      "['A']\n",
      "['A', 'B']\n",
      "['A', 'B', 'C']\n",
      "['A', 'B', 'C', 'D']\n",
      "Current cache:\n",
      "A: Hello\n",
      "B: World\n",
      "C: Holberton\n",
      "D: School\n"
     ]
    }
   ],
   "source": [
    "my_cache.put(\"A\", \"Hello\")\n",
    "my_cache.put(\"B\", \"World\")\n",
    "my_cache.put(\"C\", \"Holberton\")\n",
    "my_cache.put(\"D\", \"School\")\n",
    "my_cache.print_cache()\n"
   ]
  },
  {
   "cell_type": "code",
   "execution_count": 78,
   "metadata": {},
   "outputs": [
    {
     "name": "stdout",
     "output_type": "stream",
     "text": [
      "To be deleted A\n",
      "DISCARD: A\n",
      "\n",
      "To be deleted B\n",
      "DISCARD: B\n",
      "\n",
      "To be deleted C\n",
      "DISCARD: C\n",
      "\n",
      "Current cache:\n",
      "D: School\n",
      "E: Battery\n",
      "F: Cage\n",
      "G: Gate\n"
     ]
    }
   ],
   "source": [
    "my_cache.put(\"E\", \"Battery\")\n",
    "my_cache.put(\"F\", \"Cage\")\n",
    "my_cache.put(\"G\", \"Gate\")\n",
    "my_cache.print_cache()\n",
    "\n"
   ]
  },
  {
   "cell_type": "code",
   "execution_count": 79,
   "metadata": {},
   "outputs": [
    {
     "data": {
      "text/plain": [
       "['D', 'E', 'F', 'G']"
      ]
     },
     "execution_count": 79,
     "metadata": {},
     "output_type": "execute_result"
    }
   ],
   "source": [
    "my_cache.orders"
   ]
  },
  {
   "cell_type": "code",
   "execution_count": null,
   "metadata": {},
   "outputs": [],
   "source": []
  }
 ],
 "metadata": {
  "kernelspec": {
   "display_name": "Python 3",
   "language": "python",
   "name": "python3"
  },
  "language_info": {
   "codemirror_mode": {
    "name": "ipython",
    "version": 3
   },
   "file_extension": ".py",
   "mimetype": "text/x-python",
   "name": "python",
   "nbconvert_exporter": "python",
   "pygments_lexer": "ipython3",
   "version": "3.11.3"
  },
  "orig_nbformat": 4
 },
 "nbformat": 4,
 "nbformat_minor": 2
}
